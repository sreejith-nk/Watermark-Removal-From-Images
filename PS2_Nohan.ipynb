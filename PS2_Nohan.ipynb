{
  "nbformat": 4,
  "nbformat_minor": 0,
  "metadata": {
    "colab": {
      "provenance": []
    },
    "kernelspec": {
      "name": "python3",
      "display_name": "Python 3"
    },
    "language_info": {
      "name": "python"
    }
  },
  "cells": [
    {
      "cell_type": "code",
      "source": [
        "from google.colab import drive\n",
        "drive.mount('/content/drive')"
      ],
      "metadata": {
        "id": "wKPrMwOuE74V"
      },
      "execution_count": null,
      "outputs": []
    },
    {
      "cell_type": "code",
      "execution_count": null,
      "metadata": {
        "id": "ZdUMmsjBhkSE"
      },
      "outputs": [],
      "source": [
        "# Imports\n",
        "import cv2\n",
        "import numpy as np\n",
        "import matplotlib.pyplot as plt\n",
        "\n",
        "\n",
        "# Clone github for pretrained model\n",
        "! git clone https://github.com/nipponjo/deepfillv2-pytorch.git"
      ]
    },
    {
      "cell_type": "markdown",
      "source": [
        "## hvfgjv"
      ],
      "metadata": {
        "id": "XW8yguZubJbA"
      }
    },
    {
      "cell_type": "code",
      "source": [
        "# Load each image, mask the region containing watermark, and use pretrained model to write final image\n",
        "\n",
        "path = \"/content/drive/MyDrive/24hr/PS2/PS2_test_images/PS2_test_image_2.jpg\"\n",
        "im = cv2.imread(path)\n",
        "mask = np.zeros(im.shape[:2], np.uint8)\n",
        "\n",
        "im= cv2.line(im,(110,0),(380,500),(255,255,255),45)\n",
        "\n",
        "im = cv2.line(im,(0,150),(500,360),(255,255,255),15)\n",
        "\n",
        "im = cv2.line(im,(240,0),(270,512),(255,255,255),15)\n",
        "\n",
        "plt.imshow(im)\n",
        "plt.show()\n",
        "\n",
        "for i in range(im.shape[0]):\n",
        "  for j in range(im.shape[1]):\n",
        "    if im[i][j].sum()==255*3:\n",
        "      mask[i][j]=255\n",
        "\n",
        "\n",
        "cv2.imwrite(\"cropped.png\",im)\n",
        "\n",
        "# # Set the region of the mask to be inpainted\n",
        "\n",
        "cv2.imwrite(\"mask.png\",mask)\n",
        "\n",
        "!python /content/deepfillv2-pytorch/test.py --image cropped.png --mask mask.png --out /content/2.png --checkpoint /content/drive/MyDrive/24hr/PS2/states_tf_places2.pth"
      ],
      "metadata": {
        "id": "OWn-5TZDzs37"
      },
      "execution_count": null,
      "outputs": []
    },
    {
      "cell_type": "code",
      "source": [
        "id=2\n",
        "path = \"/content/drive/MyDrive/24hr/PS2/paint_test/PS2_test_image_2r_rem.jpg\"\n",
        "im = cv2.imread(path)\n",
        "\n",
        "# x1,x2,x3 = im.shape\n",
        "# for i in range(x1//2 - 60, x1//2 + 140):\n",
        "#   for j in range(x2//2 - 170, x2//2 + 140):\n",
        "#     im[i][j]=255\n",
        "plt.imshow(im)"
      ],
      "metadata": {
        "id": "squ9-mCkBO-k"
      },
      "execution_count": null,
      "outputs": []
    },
    {
      "cell_type": "code",
      "source": [
        "cv2.imwrite(\"cropped.png\",im)\n",
        "\n",
        "cv2.imwrite(\"mask.png\",mask)\n",
        "output_path=\"outputs/\"+str(id)+\".png\"\n",
        "!python /content/deepfillv2-pytorch/test.py --image /content/cropped.png --mask /content/mask.png --out /content/drive/MyDrive/24hr/PS2/outputs_test/PS2_Nohan_{id}.png --checkpoint /content/drive/MyDrive/24hr/PS2/states_tf_places2.pth"
      ],
      "metadata": {
        "id": "oH_Vmi_3y0d0"
      },
      "execution_count": null,
      "outputs": []
    },
    {
      "cell_type": "markdown",
      "source": [
        "## New outputs"
      ],
      "metadata": {
        "id": "sQd6opMQTrRA"
      }
    },
    {
      "cell_type": "code",
      "source": [
        "path = \"/content/drive/MyDrive/24hr/PS2/PS2_test_images/PS2_test_image_1.jpg\"\n",
        "im = cv2.imread(path)\n",
        "\n",
        "from scipy.ndimage import gaussian_filter\n",
        "im = cv2.GaussianBlur(im,(5,5),2)\n",
        "plt.imshow(im)\n",
        "plt.show()\n",
        "\n",
        "cv2.imwrite(\"img.png\",im)\n",
        "\n",
        "\n",
        "for i in range(1,550,20):\n",
        "  im_n = cv2.imread(\"img.png\")\n",
        "  plt.imshow(im_n)\n",
        "  plt.show()\n",
        "\n",
        "  im_n[i:i+50][i:i+50]=255\n",
        "  cv2.imwrite(\"cropped.png\",im_n)\n",
        "  \n",
        "  mask = np.zeros(im.shape[:2], np.uint8)\n",
        "  mask[i:i+50][i:i+50] = 255\n",
        "  cv2.imwrite(\"mask.png\",mask)\n",
        "\n",
        "  \n",
        "  !python /content/deepfillv2-pytorch/test.py --image /content/cropped.png --mask /content/mask.png --out img.png --checkpoint /content/drive/MyDrive/24hr/PS2/states_tf_places2.pth\n"
      ],
      "metadata": {
        "id": "0eduV7LpTtLD"
      },
      "execution_count": null,
      "outputs": []
    },
    {
      "cell_type": "code",
      "source": [
        "ipath = \"/content/drive/MyDrive/24hr/PS2/PS2_test_images/PS2_sample_image_1.jpg\"\n",
        "im = cv2.imread(path)\n",
        "\n",
        "x1,x2,x3 = im.shape\n",
        "for i in range(x1//2 - 30, x1//2 + 30):\n",
        "for j in range(x2//2 - 60, x2//2 + 60):\n",
        "im[i][j]=255\n",
        "\n",
        "cv2.imwrite(\"cropped.png\",im)\n",
        "\n",
        "# Set the region of the mask to be inpainted\n",
        "mask = np.zeros(im.shape[:2], np.uint8)\n",
        "mask[x1//2 - 30 : x1//2 + 30, x2//2 - 60 : x2//2 + 60] = 255\n",
        "\n",
        "cv2.imwrite(\"mask.png\",mask)\n",
        "output_path=\"outputs/\"+str(id)+\".png\"\n",
        "!python /content/deepfillv2-pytorch/test.py --image /content/cropped.png --mask /content/mask.png --out /content/drive/MyDrive/24hr/PS2/new_outputs/{id}.png --checkpoint /content/drive/MyDrive/24hr/PS2/states_tf_places2.pth"
      ],
      "metadata": {
        "id": "n4yW5ltB1IAO"
      },
      "execution_count": null,
      "outputs": []
    },
    {
      "cell_type": "markdown",
      "source": [
        "## ZUZUKE"
      ],
      "metadata": {
        "id": "4Pv6qJawbHOv"
      }
    },
    {
      "cell_type": "code",
      "source": [
        "!git clone https://github.com/zuruoke/watermark-removal"
      ],
      "metadata": {
        "id": "b496oesYbIGo"
      },
      "execution_count": null,
      "outputs": []
    },
    {
      "cell_type": "code",
      "source": [
        "%cd watermark-removal"
      ],
      "metadata": {
        "id": "GKObJXGgbLrs"
      },
      "execution_count": null,
      "outputs": []
    },
    {
      "cell_type": "code",
      "source": [
        "!sudo update-alternatives --config python2"
      ],
      "metadata": {
        "id": "cuOow-bOcdb9"
      },
      "execution_count": null,
      "outputs": []
    },
    {
      "cell_type": "code",
      "source": [
        "!pip install tensorflow==1.15.0"
      ],
      "metadata": {
        "id": "WlU09AmObPJL"
      },
      "execution_count": null,
      "outputs": []
    },
    {
      "cell_type": "code",
      "source": [
        "!pip install git+https://github.com/JiahuiYu/neuralgym"
      ],
      "metadata": {
        "id": "UgFQTWaZbQqX"
      },
      "execution_count": null,
      "outputs": []
    },
    {
      "cell_type": "code",
      "source": [
        "!python main.py --image /content/drive/MyDrive/24hr/PS2/PS2_test_images/PS2_test_image_1.jpg --output 1.png --checkpoint_dir model/ --watermark_type istock"
      ],
      "metadata": {
        "id": "FxMeoaD6bY-Z"
      },
      "execution_count": null,
      "outputs": []
    },
    {
      "cell_type": "code",
      "source": [],
      "metadata": {
        "id": "-GVdzOLdbrTR"
      },
      "execution_count": null,
      "outputs": []
    }
  ]
}